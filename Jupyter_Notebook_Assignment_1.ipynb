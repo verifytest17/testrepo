{
 "cells": [
  {
   "cell_type": "markdown",
   "metadata": {},
   "source": [
    "<center>\n",
    "    <img src=\"https://cf-courses-data.s3.us.cloud-object-storage.appdomain.cloud/IBMDeveloperSkillsNetwork-DS0105EN-SkillsNetwork/labs/Module2/images/SN_web_lightmode.png\" width=\"300\" alt=\"cognitiveclass.ai logo\">\n",
    "</center>\n"
   ]
  },
  {
   "cell_type": "markdown",
   "metadata": {},
   "source": [
    "#### Add your code below following the instructions given in the course\n"
   ]
  },
  {
   "cell_type": "markdown",
   "metadata": {},
   "source": [
    "## Data Science Assignment 2"
   ]
  },
  {
   "cell_type": "markdown",
   "metadata": {},
   "source": [
    "### Introduction to Data science"
   ]
  },
  {
   "cell_type": "markdown",
   "metadata": {},
   "source": [
    "*Data science languages*\n",
    "* Python\n",
    "* R\n",
    "* SQL\n",
    "* Scala"
   ]
  },
  {
   "cell_type": "markdown",
   "metadata": {},
   "source": [
    "Data science Libraries\n",
    "* Pandas\n",
    "* NumPy\n",
    "* SciPy\n",
    "* Matplotlib\n",
    "* Keras\n",
    "* TensorFlow\n",
    "* Apache Spark"
   ]
  },
  {
   "cell_type": "markdown",
   "metadata": {},
   "source": [
    "List of Data Science Tools in 2 columns\n",
    "| Open source Tools | Commercial  Tools |\n",
    "| ----------------- | ----------------- |\n",
    "| MySQL | Oracle Database |\n",
    "| PostgreSQL| Microsoft SQL Server|\n",
    "| MongoDB Apache CouchDB | IBM Db2 |\n",
    "| Apache Cassandra | Informatica Powercenter |\n",
    "| Hadoop file system| IBM InfoSphere DataStage |\n",
    "| Ceph | Tableau |\n",
    "| Elasticsearch | Microsoft Power BI |\n",
    "| Apache AirFlow |IBM Cognos Analytics |\n",
    "| KubeFlow | SPSS Modeler |\n",
    "| Apache Kafka | SAS Enterprise Miner |\n",
    "| Apache Nifi | Watson Studio Desktop |\n",
    "| Apache SparkSQL | H2O Driverless |\n"
   ]
  },
  {
   "cell_type": "markdown",
   "metadata": {},
   "source": [
    "_Introducing arithmetic expressions - Add 2 numbers and then multiply_"
   ]
  },
  {
   "cell_type": "code",
   "execution_count": 8,
   "metadata": {},
   "outputs": [
    {
     "name": "stdout",
     "output_type": "stream",
     "text": [
      "35\n"
     ]
    }
   ],
   "source": [
    "S = (3+4)\n",
    "P = S * 5\n",
    "print(P)"
   ]
  },
  {
   "cell_type": "markdown",
   "metadata": {},
   "source": [
    "_Convert minutes to hours_"
   ]
  },
  {
   "cell_type": "code",
   "execution_count": 9,
   "metadata": {},
   "outputs": [
    {
     "name": "stdout",
     "output_type": "stream",
     "text": [
      "1.5\n"
     ]
    }
   ],
   "source": [
    "M = 90\n",
    "H= 90 / 60\n",
    "print(H)\n"
   ]
  },
  {
   "cell_type": "markdown",
   "metadata": {},
   "source": [
    "*Objectives*\n",
    "* Share through Github\n",
    "* Take screenshot"
   ]
  },
  {
   "cell_type": "markdown",
   "metadata": {},
   "source": [
    "# Author\n",
    "Sabitha "
   ]
  },
  {
   "cell_type": "code",
   "execution_count": null,
   "metadata": {},
   "outputs": [],
   "source": []
  }
 ],
 "metadata": {
  "kernelspec": {
   "display_name": "Python",
   "language": "python",
   "name": "conda-env-python-py"
  },
  "language_info": {
   "codemirror_mode": {
    "name": "ipython",
    "version": 3
   },
   "file_extension": ".py",
   "mimetype": "text/x-python",
   "name": "python",
   "nbconvert_exporter": "python",
   "pygments_lexer": "ipython3",
   "version": "3.7.12"
  }
 },
 "nbformat": 4,
 "nbformat_minor": 4
}
